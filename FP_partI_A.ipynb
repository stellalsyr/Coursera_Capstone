{
 "cells": [
  {
   "cell_type": "markdown",
   "metadata": {},
   "source": [
    "# __Capstone Project: Open a Chinese-style Tea Station in Irvine, California__"
   ]
  },
  {
   "cell_type": "markdown",
   "metadata": {},
   "source": [
    "## Introduction/Business Problem"
   ]
  },
  {
   "cell_type": "markdown",
   "metadata": {},
   "source": [
    "Hi everyone, my name is Tina. \n",
    "\n",
    "I'm from Suzhou, which a small town in China that is known for its canals, bridges, classical gardens and it's grean tea (Biluochun). Biluochun is a famous green tea originally grown in the Dongting mountain region near Lake Tai, which is part of Suzhou, Jiangsu, China. It is renowned for its delicate appearance, fruity taste, floral aroma, showy white hairs and early cropping. The name Biluochun literally means \"green snail spring\". It is called so because it is a green tea that is rolled into a tight spiral, resembling snail meat, and is cropped in early spring.\n",
    "\n",
    "I came to US to study Statistics at UC,Irvine. It's a very beautiful city. In 2016, Irvine became the largest city in the continental US with an Asian American plurality, constituting around 45% of the city's population. This is very exciting news to the investors in my hometown and they want to open a Chinese-styple Tea Station in Irvine. They delegated to me the task of finding the best neighborhood in Irvine to open this Tea Station. I will use the Foursquare location data to help me find out the solution. "
   ]
  },
  {
   "cell_type": "code",
   "execution_count": null,
   "metadata": {},
   "outputs": [],
   "source": []
  }
 ],
 "metadata": {
  "kernelspec": {
   "display_name": "Python 3",
   "language": "python",
   "name": "python3"
  },
  "language_info": {
   "codemirror_mode": {
    "name": "ipython",
    "version": 3
   },
   "file_extension": ".py",
   "mimetype": "text/x-python",
   "name": "python",
   "nbconvert_exporter": "python",
   "pygments_lexer": "ipython3",
   "version": "3.6.5"
  }
 },
 "nbformat": 4,
 "nbformat_minor": 2
}
